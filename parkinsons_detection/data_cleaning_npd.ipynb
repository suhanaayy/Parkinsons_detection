{
  "nbformat": 4,
  "nbformat_minor": 0,
  "metadata": {
    "colab": {
      "provenance": []
    },
    "kernelspec": {
      "name": "python3",
      "display_name": "Python 3"
    },
    "language_info": {
      "name": "python"
    }
  },
  "cells": [
    {
      "cell_type": "code",
      "execution_count": null,
      "metadata": {
        "colab": {
          "base_uri": "https://localhost:8080/",
          "height": 90
        },
        "id": "Dbc0t2Prn4rQ",
        "outputId": "673fdfce-5260-4076-b803-bf7952adb38f"
      },
      "outputs": [
        {
          "output_type": "display_data",
          "data": {
            "text/plain": [
              "<IPython.core.display.HTML object>"
            ],
            "text/html": [
              "\n",
              "     <input type=\"file\" id=\"files-1dd8a408-5ec0-4cb2-8f2e-39bd4f324643\" name=\"files[]\" multiple disabled\n",
              "        style=\"border:none\" />\n",
              "     <output id=\"result-1dd8a408-5ec0-4cb2-8f2e-39bd4f324643\">\n",
              "      Upload widget is only available when the cell has been executed in the\n",
              "      current browser session. Please rerun this cell to enable.\n",
              "      </output>\n",
              "      <script>// Copyright 2017 Google LLC\n",
              "//\n",
              "// Licensed under the Apache License, Version 2.0 (the \"License\");\n",
              "// you may not use this file except in compliance with the License.\n",
              "// You may obtain a copy of the License at\n",
              "//\n",
              "//      http://www.apache.org/licenses/LICENSE-2.0\n",
              "//\n",
              "// Unless required by applicable law or agreed to in writing, software\n",
              "// distributed under the License is distributed on an \"AS IS\" BASIS,\n",
              "// WITHOUT WARRANTIES OR CONDITIONS OF ANY KIND, either express or implied.\n",
              "// See the License for the specific language governing permissions and\n",
              "// limitations under the License.\n",
              "\n",
              "/**\n",
              " * @fileoverview Helpers for google.colab Python module.\n",
              " */\n",
              "(function(scope) {\n",
              "function span(text, styleAttributes = {}) {\n",
              "  const element = document.createElement('span');\n",
              "  element.textContent = text;\n",
              "  for (const key of Object.keys(styleAttributes)) {\n",
              "    element.style[key] = styleAttributes[key];\n",
              "  }\n",
              "  return element;\n",
              "}\n",
              "\n",
              "// Max number of bytes which will be uploaded at a time.\n",
              "const MAX_PAYLOAD_SIZE = 100 * 1024;\n",
              "\n",
              "function _uploadFiles(inputId, outputId) {\n",
              "  const steps = uploadFilesStep(inputId, outputId);\n",
              "  const outputElement = document.getElementById(outputId);\n",
              "  // Cache steps on the outputElement to make it available for the next call\n",
              "  // to uploadFilesContinue from Python.\n",
              "  outputElement.steps = steps;\n",
              "\n",
              "  return _uploadFilesContinue(outputId);\n",
              "}\n",
              "\n",
              "// This is roughly an async generator (not supported in the browser yet),\n",
              "// where there are multiple asynchronous steps and the Python side is going\n",
              "// to poll for completion of each step.\n",
              "// This uses a Promise to block the python side on completion of each step,\n",
              "// then passes the result of the previous step as the input to the next step.\n",
              "function _uploadFilesContinue(outputId) {\n",
              "  const outputElement = document.getElementById(outputId);\n",
              "  const steps = outputElement.steps;\n",
              "\n",
              "  const next = steps.next(outputElement.lastPromiseValue);\n",
              "  return Promise.resolve(next.value.promise).then((value) => {\n",
              "    // Cache the last promise value to make it available to the next\n",
              "    // step of the generator.\n",
              "    outputElement.lastPromiseValue = value;\n",
              "    return next.value.response;\n",
              "  });\n",
              "}\n",
              "\n",
              "/**\n",
              " * Generator function which is called between each async step of the upload\n",
              " * process.\n",
              " * @param {string} inputId Element ID of the input file picker element.\n",
              " * @param {string} outputId Element ID of the output display.\n",
              " * @return {!Iterable<!Object>} Iterable of next steps.\n",
              " */\n",
              "function* uploadFilesStep(inputId, outputId) {\n",
              "  const inputElement = document.getElementById(inputId);\n",
              "  inputElement.disabled = false;\n",
              "\n",
              "  const outputElement = document.getElementById(outputId);\n",
              "  outputElement.innerHTML = '';\n",
              "\n",
              "  const pickedPromise = new Promise((resolve) => {\n",
              "    inputElement.addEventListener('change', (e) => {\n",
              "      resolve(e.target.files);\n",
              "    });\n",
              "  });\n",
              "\n",
              "  const cancel = document.createElement('button');\n",
              "  inputElement.parentElement.appendChild(cancel);\n",
              "  cancel.textContent = 'Cancel upload';\n",
              "  const cancelPromise = new Promise((resolve) => {\n",
              "    cancel.onclick = () => {\n",
              "      resolve(null);\n",
              "    };\n",
              "  });\n",
              "\n",
              "  // Wait for the user to pick the files.\n",
              "  const files = yield {\n",
              "    promise: Promise.race([pickedPromise, cancelPromise]),\n",
              "    response: {\n",
              "      action: 'starting',\n",
              "    }\n",
              "  };\n",
              "\n",
              "  cancel.remove();\n",
              "\n",
              "  // Disable the input element since further picks are not allowed.\n",
              "  inputElement.disabled = true;\n",
              "\n",
              "  if (!files) {\n",
              "    return {\n",
              "      response: {\n",
              "        action: 'complete',\n",
              "      }\n",
              "    };\n",
              "  }\n",
              "\n",
              "  for (const file of files) {\n",
              "    const li = document.createElement('li');\n",
              "    li.append(span(file.name, {fontWeight: 'bold'}));\n",
              "    li.append(span(\n",
              "        `(${file.type || 'n/a'}) - ${file.size} bytes, ` +\n",
              "        `last modified: ${\n",
              "            file.lastModifiedDate ? file.lastModifiedDate.toLocaleDateString() :\n",
              "                                    'n/a'} - `));\n",
              "    const percent = span('0% done');\n",
              "    li.appendChild(percent);\n",
              "\n",
              "    outputElement.appendChild(li);\n",
              "\n",
              "    const fileDataPromise = new Promise((resolve) => {\n",
              "      const reader = new FileReader();\n",
              "      reader.onload = (e) => {\n",
              "        resolve(e.target.result);\n",
              "      };\n",
              "      reader.readAsArrayBuffer(file);\n",
              "    });\n",
              "    // Wait for the data to be ready.\n",
              "    let fileData = yield {\n",
              "      promise: fileDataPromise,\n",
              "      response: {\n",
              "        action: 'continue',\n",
              "      }\n",
              "    };\n",
              "\n",
              "    // Use a chunked sending to avoid message size limits. See b/62115660.\n",
              "    let position = 0;\n",
              "    do {\n",
              "      const length = Math.min(fileData.byteLength - position, MAX_PAYLOAD_SIZE);\n",
              "      const chunk = new Uint8Array(fileData, position, length);\n",
              "      position += length;\n",
              "\n",
              "      const base64 = btoa(String.fromCharCode.apply(null, chunk));\n",
              "      yield {\n",
              "        response: {\n",
              "          action: 'append',\n",
              "          file: file.name,\n",
              "          data: base64,\n",
              "        },\n",
              "      };\n",
              "\n",
              "      let percentDone = fileData.byteLength === 0 ?\n",
              "          100 :\n",
              "          Math.round((position / fileData.byteLength) * 100);\n",
              "      percent.textContent = `${percentDone}% done`;\n",
              "\n",
              "    } while (position < fileData.byteLength);\n",
              "  }\n",
              "\n",
              "  // All done.\n",
              "  yield {\n",
              "    response: {\n",
              "      action: 'complete',\n",
              "    }\n",
              "  };\n",
              "}\n",
              "\n",
              "scope.google = scope.google || {};\n",
              "scope.google.colab = scope.google.colab || {};\n",
              "scope.google.colab._files = {\n",
              "  _uploadFiles,\n",
              "  _uploadFilesContinue,\n",
              "};\n",
              "})(self);\n",
              "</script> "
            ]
          },
          "metadata": {}
        },
        {
          "output_type": "stream",
          "name": "stdout",
          "text": [
            "Saving june3.csv to june3 (1).csv\n",
            "Uploaded file: june3 (1).csv\n"
          ]
        }
      ],
      "source": [
        "from google.colab import files  # Only works in Google Colab\n",
        "\n",
        "uploaded = files.upload()\n",
        "\n",
        "# Access the file\n",
        "for filename in uploaded.keys():\n",
        "    print(f\"Uploaded file: {filename}\")"
      ]
    },
    {
      "cell_type": "code",
      "source": [
        "import pandas as pd\n",
        "df = pd.read_excel(filename) if filename.endswith('.xlsx') else pd.read_csv(filename)\n",
        "print(\"Column names:\")\n",
        "print(df.columns.tolist())"
      ],
      "metadata": {
        "colab": {
          "base_uri": "https://localhost:8080/"
        },
        "id": "gSulzdPML1GY",
        "outputId": "76e7e1f6-5690-42ec-e58b-f34cf10a801a"
      },
      "execution_count": null,
      "outputs": [
        {
          "output_type": "stream",
          "name": "stdout",
          "text": [
            "Column names:\n",
            "['RecordingTime [ms]', 'Time of Day [h:m:s:ms]', 'Trial', 'Stimulus', 'Export Start Trial Time [ms]', 'Export End Trial Time [ms]', 'Participant', 'Color', 'Tracking Ratio [%]', 'Category Group', 'Category Binocular', 'Index Binocular', 'Pupil Size Right X [px]', 'Pupil Size Right Y [px]', 'Pupil Diameter Right [mm]', 'Pupil Size Left X [px]', 'Pupil Size Left Y [px]', 'Pupil Diameter Left [mm]', 'Point of Regard Binocular X [px]', 'Point of Regard Binocular Y [px]', 'Point of Regard Right X [px]', 'Point of Regard Right Y [px]', 'Point of Regard Left X [px]', 'Point of Regard Left Y [px]', 'AOI Name Binocular', 'Gaze Vector Right X', 'Gaze Vector Right Y', 'Gaze Vector Right Z', 'Gaze Vector Left X', 'Gaze Vector Left Y', 'Gaze Vector Left Z', 'Video Time [h:m:s:ms]', 'Annotation Name', 'Annotation Description', 'Annotation Tags', 'Mouse Position X [px]', 'Mouse Position Y [px]', 'Scroll Direction X', 'Scroll Direction Y', 'Content']\n"
          ]
        },
        {
          "output_type": "stream",
          "name": "stderr",
          "text": [
            "/tmp/ipython-input-50-2196398907.py:2: DtypeWarning: Columns (12,13,14,15,16,17,18,19,20,21,22,23,25,26,27,28,29,30) have mixed types. Specify dtype option on import or set low_memory=False.\n",
            "  df = pd.read_excel(filename) if filename.endswith('.xlsx') else pd.read_csv(filename)\n"
          ]
        }
      ]
    },
    {
      "cell_type": "code",
      "source": [
        "columns_to_drop = [\n",
        "    \"Video Time [h:m:s:ms]\", \"Annotation Name\", \"Annotation Description\", \"Annotation Tags\",\n",
        "    \"Mouse Position X [px]\", \"Mouse Position Y [px]\",\n",
        "    \"Scroll Direction zX\", \"Scroll Direction Y\", \"Content\",\"Stimulus\",\"Export Start Trial Time [ms]\",\"AOI Name Binocular\",\n",
        "]\n",
        "df.drop(columns=columns_to_drop, inplace=True, errors=\"ignore\")"
      ],
      "metadata": {
        "id": "GCdEjMA_MlI9"
      },
      "execution_count": null,
      "outputs": []
    },
    {
      "cell_type": "code",
      "source": [
        "#Convert the relevant columns to numeric data types\n",
        "#This helps ensure that any non-numeric entries are turned into NaN so you can handle them.\n",
        "columns_to_convert = [\n",
        "    \"Pupil Size Right X [px]\", \"Pupil Size Right Y [px]\", \"Pupil Diameter Right [mm]\",\n",
        "    \"Pupil Size Left X [px]\", \"Pupil Size Left Y [px]\", \"Pupil Diameter Left [mm]\",\n",
        "    \"Point of Regard Binocular X [px]\", \"Point of Regard Binocular Y [px]\",\n",
        "    \"Point of Regard Right X [px]\", \"Point of Regard Right Y [px]\",\n",
        "    \"Point of Regard Left X [px]\", \"Point of Regard Left Y [px]\",\n",
        "    \"Gaze Vector Right X\", \"Gaze Vector Right Y\", \"Gaze Vector Right Z\",\n",
        "    \"Gaze Vector Left X\", \"Gaze Vector Left Y\", \"Gaze Vector Left Z\"\n",
        "]\n",
        "\n",
        "df[columns_to_convert] = df[columns_to_convert].apply(pd.to_numeric, errors=\"coerce\")"
      ],
      "metadata": {
        "id": "Ss0MFCUDMn06"
      },
      "execution_count": null,
      "outputs": []
    },
    {
      "cell_type": "code",
      "source": [
        "import pandas as pd\n",
        "import numpy as np\n",
        "from scipy.interpolate import CubicSpline\n",
        "from google.colab import files\n",
        "def impute(series, short=4, med=20):\n",
        "    s = series.copy()\n",
        "    mask = s.isna()\n",
        "    groups = (mask != mask.shift()).cumsum()\n",
        "    for _, block in s.groupby(groups):\n",
        "        if not block.isna().all(): continue\n",
        "        start = block.index[0] - 1\n",
        "        end = block.index[-1] + 1\n",
        "        length = end - start - 1\n",
        "        if start < 0 or end >= len(s): continue\n",
        "        b, a = s.iat[start], s.iat[end]\n",
        "        # Short gap: linear\n",
        "        if length <= short:\n",
        "            for i in range(1, length+1):\n",
        "                ratio = i/(length+1)\n",
        "                s.iat[start+i] = b + ratio*(a-b)\n",
        "        # Medium gap: spline if enough neighbors\n",
        "        elif length <= med:\n",
        "            idxs = [i for i in range(start-3, end+4) if 0<=i<len(s) and not pd.isna(s.iat[i])]\n",
        "            if len(idxs) >= 4:\n",
        "                xs, ys = np.array(idxs), s.iloc[idxs].values\n",
        "                cs = CubicSpline(xs, ys)\n",
        "                for i in range(1, length+1): s.iat[start+i] = cs(start+i)\n",
        "            else:\n",
        "                for i in range(1, length+1):\n",
        "                    ratio = i/(length+1)\n",
        "                    s.iat[start+i] = b + ratio*(a-b)\n",
        "        # Long gaps: leave NaN\n",
        "    return s\n",
        "\n",
        "for col in ['Pupil Diameter Left [mm]', 'Pupil Diameter Right [mm]',\n",
        "            'Point of Regard Binocular X [px]', 'Point of Regard Binocular Y [px]',\n",
        "            'Tracking Ratio [%]']:\n",
        "    if col in df.columns:\n",
        "        df[col] =impute(df[col])"
      ],
      "metadata": {
        "id": "rtfIwDI6itfp"
      },
      "execution_count": null,
      "outputs": []
    },
    {
      "cell_type": "code",
      "source": [
        "import numpy as np\n",
        "\n",
        "# Calculate pupil diameter avg (temporary)\n",
        "pupil_diameter_avg = df[['Pupil Diameter Left [mm]', 'Pupil Diameter Right [mm]']].mean(axis=1)\n",
        "\n",
        "# Calculate time in seconds (temporary)\n",
        "recording_time_s = df['RecordingTime [ms]'] / 1000.0\n",
        "\n",
        "# Calculate Point of Regard velocity (temporary)\n",
        "POR_X_diff = df['Point of Regard Binocular X [px]'].diff()\n",
        "POR_Y_diff = df['Point of Regard Binocular Y [px]'].diff()\n",
        "time_diff = recording_time_s.diff()\n",
        "POR_velocity = np.sqrt(POR_X_diff**2 + POR_Y_diff**2) / time_diff\n",
        "\n",
        "# Initialize the category\n",
        "df['Category Binocular'] = 'uncategorized'\n",
        "\n",
        "# Blink detection: Pupil size drops or tracking ratio = 0\n",
        "blink_mask = (\n",
        "    (pupil_diameter_avg < 1.5) |\n",
        "    (df['Tracking Ratio [%]'] < 10 )\n",
        ")\n",
        "df.loc[blink_mask, 'Category Binocular'] = 'blink'\n",
        "\n",
        "# Saccade detection: Higher velocity threshold, short duration\n",
        "saccade_mask = (\n",
        "    (POR_velocity > 1200) &  # Increased from 100\n",
        "    (time_diff < 0.15) &\n",
        "    (~blink_mask)\n",
        ")\n",
        "df.loc[saccade_mask, 'Category Binocular'] = 'saccade'\n",
        "\n",
        "# Visual Intake: More tolerant velocity and tracking ratio\n",
        "visual_intake_mask = (\n",
        "    (POR_velocity < 1200) &  # Increased from 100\n",
        "    (df['Tracking Ratio [%]'] > 5) &  # Lowered from 10\n",
        "    (~blink_mask) &\n",
        "    (~saccade_mask)\n",
        ")\n",
        "df.loc[visual_intake_mask, 'Category Binocular'] = 'visual intake'\n",
        "\n",
        "# Output\n",
        "print(df[['RecordingTime [ms]', 'Category Binocular']].head(30))\n"
      ],
      "metadata": {
        "id": "kSCjK3kCMcP2",
        "colab": {
          "base_uri": "https://localhost:8080/"
        },
        "outputId": "d832f03e-8362-4bd8-f128-38a73e3331cf"
      },
      "execution_count": null,
      "outputs": [
        {
          "output_type": "stream",
          "name": "stdout",
          "text": [
            "    RecordingTime [ms] Category Binocular\n",
            "0            5173630.8      uncategorized\n",
            "1            5173647.5      visual intake\n",
            "2            5173664.1      visual intake\n",
            "3            5173680.7      visual intake\n",
            "4            5173697.3      visual intake\n",
            "5            5173714.0            saccade\n",
            "6            5173730.7            saccade\n",
            "7            5173747.2      visual intake\n",
            "8            5173764.0      visual intake\n",
            "9            5173780.5      visual intake\n",
            "10           5173797.2      visual intake\n",
            "11           5173813.9      visual intake\n",
            "12           5173830.5      visual intake\n",
            "13           5173847.2      visual intake\n",
            "14           5173863.8      visual intake\n",
            "15           5173880.4      visual intake\n",
            "16           5173897.1      visual intake\n",
            "17           5173913.7      visual intake\n",
            "18           5173930.3      visual intake\n",
            "19           5173947.0      visual intake\n",
            "20           5173963.6      visual intake\n",
            "21           5173980.3      visual intake\n",
            "22           5173996.9            saccade\n",
            "23           5174013.6            saccade\n",
            "24           5174030.2      visual intake\n",
            "25           5174046.9      visual intake\n",
            "26           5174063.5      visual intake\n",
            "27           5174080.1      visual intake\n",
            "28           5174096.7      visual intake\n",
            "29           5174113.4      visual intake\n"
          ]
        }
      ]
    },
    {
      "cell_type": "code",
      "source": [
        "# Count the number of Visual Intake entries\n",
        "visual_intake_count = (df['Category Binocular'] == 'visual intake').sum()\n",
        "\n",
        "print(f\"Number of Visual Intake events: {visual_intake_count}\")\n"
      ],
      "metadata": {
        "id": "XV293qKzMw7z",
        "colab": {
          "base_uri": "https://localhost:8080/"
        },
        "outputId": "1db1e64c-b050-42f8-f0cb-e4b8c71bc060"
      },
      "execution_count": null,
      "outputs": [
        {
          "output_type": "stream",
          "name": "stdout",
          "text": [
            "Number of Visual Intake events: 75772\n"
          ]
        }
      ]
    },
    {
      "cell_type": "code",
      "source": [
        "\n",
        "\n",
        "# Show all columns\n",
        "pd.set_option('display.max_columns', None)\n",
        "\n",
        "# Show all rows (optional)\n",
        "# pd.set_option('display.max_rows', None)\n",
        "\n",
        "# Now this will show all columns\n",
        "print(df.head())\n"
      ],
      "metadata": {
        "id": "kJC1hzbiODw1",
        "colab": {
          "base_uri": "https://localhost:8080/"
        },
        "outputId": "91eff48f-c041-4eb4-ccc8-a2e6baf74e86"
      },
      "execution_count": null,
      "outputs": [
        {
          "output_type": "stream",
          "name": "stdout",
          "text": [
            "   RecordingTime [ms] Time of Day [h:m:s:ms]     Trial  \\\n",
            "0           5173630.8           11:22:25:297  Trial001   \n",
            "1           5173647.5           11:22:25:314  Trial001   \n",
            "2           5173664.1           11:22:25:330  Trial001   \n",
            "3           5173680.7           11:22:25:347  Trial001   \n",
            "4           5173697.3           11:22:25:363  Trial001   \n",
            "\n",
            "   Export End Trial Time [ms] Participant  Color  Tracking Ratio [%]  \\\n",
            "0                    181364.6   OH21_AM_1  Coral               100.0   \n",
            "1                    181364.6   OH21_AM_1  Coral               100.0   \n",
            "2                    181364.6   OH21_AM_1  Coral               100.0   \n",
            "3                    181364.6   OH21_AM_1  Coral               100.0   \n",
            "4                    181364.6   OH21_AM_1  Coral               100.0   \n",
            "\n",
            "  Category Group Category Binocular Index Binocular  Pupil Size Right X [px]  \\\n",
            "0            Eye      uncategorized               1                     62.0   \n",
            "1            Eye      visual intake               1                     64.0   \n",
            "2            Eye      visual intake               1                     62.0   \n",
            "3            Eye      visual intake               1                     64.0   \n",
            "4            Eye      visual intake               1                     64.0   \n",
            "\n",
            "   Pupil Size Right Y [px]  Pupil Diameter Right [mm]  Pupil Size Left X [px]  \\\n",
            "0                     38.0                        2.3                    76.0   \n",
            "1                     36.0                        2.4                    76.0   \n",
            "2                     38.0                        2.3                    76.0   \n",
            "3                     38.0                        2.3                    76.0   \n",
            "4                     38.0                        2.3                    76.0   \n",
            "\n",
            "   Pupil Size Left Y [px]  Pupil Diameter Left [mm]  \\\n",
            "0                    48.0                       2.9   \n",
            "1                    50.0                       2.9   \n",
            "2                    52.0                       2.9   \n",
            "3                    48.0                       2.9   \n",
            "4                    52.0                       2.9   \n",
            "\n",
            "   Point of Regard Binocular X [px]  Point of Regard Binocular Y [px]  \\\n",
            "0                             651.4                             303.7   \n",
            "1                             654.3                             300.4   \n",
            "2                             650.0                             302.7   \n",
            "3                             650.2                             304.6   \n",
            "4                             650.3                             303.4   \n",
            "\n",
            "   Point of Regard Right X [px]  Point of Regard Right Y [px]  \\\n",
            "0                         651.4                         303.7   \n",
            "1                         654.3                         300.4   \n",
            "2                         650.0                         302.7   \n",
            "3                         650.2                         304.6   \n",
            "4                         650.3                         303.4   \n",
            "\n",
            "   Point of Regard Left X [px]  Point of Regard Left Y [px]  \\\n",
            "0                        651.4                        303.7   \n",
            "1                        654.3                        300.4   \n",
            "2                        650.0                        302.7   \n",
            "3                        650.2                        304.6   \n",
            "4                        650.3                        303.4   \n",
            "\n",
            "   Gaze Vector Right X  Gaze Vector Right Y  Gaze Vector Right Z  \\\n",
            "0                  0.0                  0.0                  1.0   \n",
            "1                  0.0                  0.0                  1.0   \n",
            "2                  0.0                  0.0                  1.0   \n",
            "3                  0.0                  0.0                  1.0   \n",
            "4                  0.0                  0.0                  1.0   \n",
            "\n",
            "   Gaze Vector Left X  Gaze Vector Left Y  Gaze Vector Left Z  \\\n",
            "0                 0.0                 0.0                 1.0   \n",
            "1                 0.0                 0.0                 1.0   \n",
            "2                 0.0                 0.0                 1.0   \n",
            "3                 0.0                 0.0                 1.0   \n",
            "4                 0.0                 0.0                 1.0   \n",
            "\n",
            "  Scroll Direction X  \n",
            "0                  -  \n",
            "1                  -  \n",
            "2                  -  \n",
            "3                  -  \n",
            "4                  -  \n"
          ]
        }
      ]
    },
    {
      "cell_type": "code",
      "source": [
        "import pandas as pd\n",
        "# Column mapping\n",
        "column_mapping = {\n",
        "    'timestamp': 'Time of Day [h:m:s:ms]',  # Human-readable time\n",
        "    'RecordingTime [ms]': 'RecordingTime [ms]',\n",
        "    'gaze_x': 'Gaze Vector Right X',\n",
        "    'gaze_y': 'Gaze Vector Right Y',\n",
        "    'left_pupil_x': 'Pupil Size Left X [px]',\n",
        "    'left_pupil_y': 'Pupil Size Left Y [px]',\n",
        "    'left_pupil_diameter': 'Pupil Diameter Left [mm]',\n",
        "    'right_pupil_x': 'Pupil Size Right X [px]',\n",
        "    'right_pupil_y': 'Pupil Size Right Y [px]',\n",
        "    'right_pupil_diameter': 'Pupil Diameter Right [mm]',\n",
        "    'PoR_binocular_x': 'Point of Regard Binocular X [px]',\n",
        "    'PoR_binocular_y': 'Point of Regard Binocular Y [px]',\n",
        "    'Point of Regard Right X': 'Point of Regard Right X [px]',\n",
        "    'Point of Regard Right Y': 'Point of Regard Right Y [px]',\n",
        "    'Point of Regard Left X': 'Point of Regard Left X [px]',\n",
        "    'Point of Regard Left Y': 'Point of Regard Left Y [px]',\n",
        "    'Category Binocular': 'Category Binocular',\n",
        "    'Index Binocular': 'Index Binocular',\n",
        "}\n",
        "\n",
        "# Final column order\n",
        "final_columns = ['timestamp', 'RecordingTime [ms]', 'gaze_x', 'gaze_y','blink',\n",
        "                 'saccade_velocity', 'fixation', 'pupil_size',\n",
        "                 'left_pupil_x', 'left_pupil_y', 'left_pupil_diameter',\n",
        "                 'right_pupil_x', 'right_pupil_y', 'right_pupil_diameter',\n",
        "                 'PoR_binocular_x', 'PoR_binocular_y',\n",
        "                 'Point of Regard Right X', 'Point of Regard Right Y',\n",
        "                 'Point of Regard Left X', 'Point of Regard Left Y',\n",
        "                 'Category Binocular', 'Index Binocular']\n",
        "\n",
        "# Select and rename required columns\n",
        "required_columns = list(column_mapping.values())\n",
        "df_cleaned = df[required_columns].copy()\n",
        "df_cleaned.rename(columns={v: k for k, v in column_mapping.items()}, inplace=True)\n",
        "\n",
        "# Add missing columns\n",
        "missing_columns = ['blink', 'saccade_velocity', 'fixation', 'pupil_size']\n",
        "for col in missing_columns:\n",
        "    df_cleaned[col] = None  # You can calculate later\n",
        "\n",
        "# Mark blink rows\n",
        "df_cleaned['blink'] = df_cleaned['Category Binocular'].apply(lambda x: 1 if str(x).lower() == 'blink' else 0)\n",
        "\n",
        "# Reorder columns\n",
        "df_cleaned = df_cleaned[final_columns]\n",
        "\n",
        "\n"
      ],
      "metadata": {
        "id": "7G9S625OT4X6"
      },
      "execution_count": null,
      "outputs": []
    },
    {
      "cell_type": "code",
      "source": [
        "print(df_cleaned.head())"
      ],
      "metadata": {
        "id": "t4BVpH5BUihs",
        "colab": {
          "base_uri": "https://localhost:8080/"
        },
        "outputId": "accb446a-a86a-4acc-b790-97644fbc038d"
      },
      "execution_count": null,
      "outputs": [
        {
          "output_type": "stream",
          "name": "stdout",
          "text": [
            "      timestamp  RecordingTime [ms]  gaze_x  gaze_y  blink saccade_velocity  \\\n",
            "0  11:22:25:297           5173630.8     0.0     0.0      0             None   \n",
            "1  11:22:25:314           5173647.5     0.0     0.0      0             None   \n",
            "2  11:22:25:330           5173664.1     0.0     0.0      0             None   \n",
            "3  11:22:25:347           5173680.7     0.0     0.0      0             None   \n",
            "4  11:22:25:363           5173697.3     0.0     0.0      0             None   \n",
            "\n",
            "  fixation pupil_size  left_pupil_x  left_pupil_y  left_pupil_diameter  \\\n",
            "0     None       None          76.0          48.0                  2.9   \n",
            "1     None       None          76.0          50.0                  2.9   \n",
            "2     None       None          76.0          52.0                  2.9   \n",
            "3     None       None          76.0          48.0                  2.9   \n",
            "4     None       None          76.0          52.0                  2.9   \n",
            "\n",
            "   right_pupil_x  right_pupil_y  right_pupil_diameter  PoR_binocular_x  \\\n",
            "0           62.0           38.0                   2.3            651.4   \n",
            "1           64.0           36.0                   2.4            654.3   \n",
            "2           62.0           38.0                   2.3            650.0   \n",
            "3           64.0           38.0                   2.3            650.2   \n",
            "4           64.0           38.0                   2.3            650.3   \n",
            "\n",
            "   PoR_binocular_y  Point of Regard Right X  Point of Regard Right Y  \\\n",
            "0            303.7                    651.4                    303.7   \n",
            "1            300.4                    654.3                    300.4   \n",
            "2            302.7                    650.0                    302.7   \n",
            "3            304.6                    650.2                    304.6   \n",
            "4            303.4                    650.3                    303.4   \n",
            "\n",
            "   Point of Regard Left X  Point of Regard Left Y Category Binocular  \\\n",
            "0                   651.4                   303.7      uncategorized   \n",
            "1                   654.3                   300.4      visual intake   \n",
            "2                   650.0                   302.7      visual intake   \n",
            "3                   650.2                   304.6      visual intake   \n",
            "4                   650.3                   303.4      visual intake   \n",
            "\n",
            "  Index Binocular  \n",
            "0               1  \n",
            "1               1  \n",
            "2               1  \n",
            "3               1  \n",
            "4               1  \n"
          ]
        }
      ]
    },
    {
      "cell_type": "code",
      "source": [
        "import pandas as pd\n",
        "import numpy as np\n",
        "\n",
        "# Calculate saccade velocity using temporary variables\n",
        "time_diff_s = df_cleaned['RecordingTime [ms]'].diff() / 1000.0\n",
        "gaze_x_diff = df_cleaned['gaze_x'].diff()\n",
        "gaze_y_diff = df_cleaned['gaze_y'].diff()\n",
        "\n",
        "saccade_velocity = np.sqrt(gaze_x_diff**2 + gaze_y_diff**2) / time_diff_s\n",
        "saccade_velocity = saccade_velocity.replace([np.inf, -np.inf], np.nan).fillna(0)\n",
        "df_cleaned['saccade_velocity'] = saccade_velocity\n",
        "\n",
        "# Identify fixations: velocity < 30 pixels/second\n",
        "df_cleaned['fixation'] = df_cleaned.apply(\n",
        "    lambda row: 1 if (row['saccade_velocity'] < 50 and row['saccade_velocity'] > 0  and row['blink'] ==0) else 0,\n",
        "    axis=1\n",
        ")\n",
        "\n",
        "\n",
        "# Calculate pupil size as average of left and right diameters\n",
        "df_cleaned['pupil_size'] = df_cleaned[['left_pupil_diameter', 'right_pupil_diameter']].mean(axis=1)\n",
        "\n",
        "# Final cleaned dataframe\n",
        "df_cleaned = df_cleaned[final_columns]\n",
        "\n",
        "# Save or display cleaned file\n",
        "output_path = '/content/cleaned_file.csv'  # Change path as needed\n",
        "df_cleaned.to_csv(output_path, index=False)\n",
        "\n",
        "print(f'Cleaned file saved at: {output_path}')\n",
        "print(df_cleaned.head())\n"
      ],
      "metadata": {
        "id": "T_jnxhssUpfr",
        "colab": {
          "base_uri": "https://localhost:8080/"
        },
        "outputId": "cb08240a-5c39-46ce-963b-de6f5b78a5f3"
      },
      "execution_count": null,
      "outputs": [
        {
          "output_type": "stream",
          "name": "stdout",
          "text": [
            "Cleaned file saved at: /content/cleaned_file.csv\n",
            "      timestamp  RecordingTime [ms]  gaze_x  gaze_y  blink  saccade_velocity  \\\n",
            "0  11:22:25:297           5173630.8     0.0     0.0      0               0.0   \n",
            "1  11:22:25:314           5173647.5     0.0     0.0      0               0.0   \n",
            "2  11:22:25:330           5173664.1     0.0     0.0      0               0.0   \n",
            "3  11:22:25:347           5173680.7     0.0     0.0      0               0.0   \n",
            "4  11:22:25:363           5173697.3     0.0     0.0      0               0.0   \n",
            "\n",
            "   fixation  pupil_size  left_pupil_x  left_pupil_y  left_pupil_diameter  \\\n",
            "0         0        2.60          76.0          48.0                  2.9   \n",
            "1         0        2.65          76.0          50.0                  2.9   \n",
            "2         0        2.60          76.0          52.0                  2.9   \n",
            "3         0        2.60          76.0          48.0                  2.9   \n",
            "4         0        2.60          76.0          52.0                  2.9   \n",
            "\n",
            "   right_pupil_x  right_pupil_y  right_pupil_diameter  PoR_binocular_x  \\\n",
            "0           62.0           38.0                   2.3            651.4   \n",
            "1           64.0           36.0                   2.4            654.3   \n",
            "2           62.0           38.0                   2.3            650.0   \n",
            "3           64.0           38.0                   2.3            650.2   \n",
            "4           64.0           38.0                   2.3            650.3   \n",
            "\n",
            "   PoR_binocular_y  Point of Regard Right X  Point of Regard Right Y  \\\n",
            "0            303.7                    651.4                    303.7   \n",
            "1            300.4                    654.3                    300.4   \n",
            "2            302.7                    650.0                    302.7   \n",
            "3            304.6                    650.2                    304.6   \n",
            "4            303.4                    650.3                    303.4   \n",
            "\n",
            "   Point of Regard Left X  Point of Regard Left Y Category Binocular  \\\n",
            "0                   651.4                   303.7      uncategorized   \n",
            "1                   654.3                   300.4      visual intake   \n",
            "2                   650.0                   302.7      visual intake   \n",
            "3                   650.2                   304.6      visual intake   \n",
            "4                   650.3                   303.4      visual intake   \n",
            "\n",
            "  Index Binocular  \n",
            "0               1  \n",
            "1               1  \n",
            "2               1  \n",
            "3               1  \n",
            "4               1  \n"
          ]
        }
      ]
    },
    {
      "cell_type": "code",
      "source": [
        "fixation_count = df_cleaned['blink'].sum()\n",
        "print(f\"Number of fixations: {fixation_count}\")\n"
      ],
      "metadata": {
        "id": "iTbzktntXFon",
        "colab": {
          "base_uri": "https://localhost:8080/"
        },
        "outputId": "1ec98a6f-cde2-4e95-f7b9-2296ba5196a7"
      },
      "execution_count": null,
      "outputs": [
        {
          "output_type": "stream",
          "name": "stdout",
          "text": [
            "Number of fixations: 21\n"
          ]
        }
      ]
    },
    {
      "cell_type": "code",
      "source": [
        "import pandas as pd\n",
        "\n",
        "# Make sure data is sorted by time\n",
        "df_cleaned = df_cleaned.sort_values('RecordingTime [ms]').reset_index(drop=True)\n",
        "\n",
        "# Step 1: Clean possible spaces in Category Binocular (just in case)\n",
        "df_cleaned['Category Binocular'] = df_cleaned['Category Binocular'].str.strip()\n",
        "\n",
        "# Step 2: Mark groups of continuous blinks using the Blink column\n",
        "df_cleaned['group_change'] = (df_cleaned['blink'] != df_cleaned['blink'].shift()).cumsum()\n",
        "\n",
        "# Step 3: Filter only Blink = 1 groups\n",
        "blink_groups = df_cleaned[df_cleaned['blink'] == 1].groupby('group_change').agg({\n",
        "    'RecordingTime [ms]': ['first', 'last'],\n",
        "    'blink': 'count'\n",
        "}).reset_index()\n",
        "\n",
        "blink_groups.columns = ['blink_group', 'start_time', 'end_time', 'blink_length']\n",
        "\n",
        "# Step 4: Calculate blink duration in ms\n",
        "blink_groups['blink_duration'] = blink_groups['end_time'] - blink_groups['start_time']\n",
        "\n",
        "# Step 5: Classify short and long blinks (threshold 150 ms)\n",
        "short_blinks = blink_groups[blink_groups['blink_duration'] < 250]\n",
        "long_blinks = blink_groups[blink_groups['blink_duration'] >= 250]\n",
        "\n",
        "print(f\"Total short blinks: {len(short_blinks)}\")\n",
        "print(f\"Total long blinks: {len(long_blinks)}\")\n",
        "\n",
        "# Step 6: Mark short and long blink rows in the main DataFrame\n",
        "short_blink_groups = short_blinks['blink_group'].values\n",
        "long_blink_groups = long_blinks['blink_group'].values\n",
        "\n",
        "df_cleaned['is_short_blink'] = df_cleaned['group_change'].isin(short_blink_groups).astype(int)\n",
        "df_cleaned['is_long_blink'] = df_cleaned['group_change'].isin(long_blink_groups).astype(int)\n",
        "\n",
        "# If you want to see the blink events:\n",
        "# print(short_blinks)\n",
        "# print(long_blinks)\n",
        "\n",
        "# Optional: Save blink data\n",
        "# short_blinks.to_excel('short_blinks.xlsx', index=False)\n",
        "# long_blinks.to_excel('long_blinks.xlsx', index=False)\n"
      ],
      "metadata": {
        "id": "XmkQn23hk1PO",
        "colab": {
          "base_uri": "https://localhost:8080/"
        },
        "outputId": "d3557712-5830-49e0-dc80-488835152f25"
      },
      "execution_count": null,
      "outputs": [
        {
          "output_type": "stream",
          "name": "stdout",
          "text": [
            "Total short blinks: 16\n",
            "Total long blinks: 0\n"
          ]
        }
      ]
    },
    {
      "cell_type": "code",
      "source": [
        "import pandas as pd\n",
        "import numpy as np\n",
        "\n",
        "window_size = 10000\n",
        "\n",
        "if len(df_cleaned) < window_size:\n",
        "    print(f\"❌ Data too small for window size {window_size}\")\n",
        "else:\n",
        "    # Step 1: Create binary indicators\n",
        "    df_cleaned['is_uncategorized'] = (df_cleaned['Category Binocular'].str.lower() == 'uncategorized').astype(int)\n",
        "    df_cleaned['is_long_blink'] = df_cleaned['is_long_blink'].fillna(0).astype(int)\n",
        "\n",
        "    # Step 2: Compute rolling sums\n",
        "    long_blinks_rolling = df_cleaned['is_long_blink'].rolling(window=window_size).sum()\n",
        "    uncategorized_rolling = df_cleaned['is_uncategorized'].rolling(window=window_size).sum()\n",
        "\n",
        "    # Step 3: Build a combined score: prioritize uncategorized minimization, but penalize long blinks\n",
        "    # For example: 1 long blink = 5 uncategorized points\n",
        "    penalty_weight = 5  # You can tweak this\n",
        "    final_score = (long_blinks_rolling * penalty_weight) + uncategorized_rolling\n",
        "\n",
        "    # Step 4: Find the window with the minimum score\n",
        "    best_window_end = final_score.dropna().idxmin()\n",
        "    best_window_start = best_window_end - window_size + 1\n",
        "\n",
        "    best_segment = df_cleaned.iloc[best_window_start:best_window_end + 1]\n",
        "\n",
        "    print(f\"✅ Best 10,000-row window found!\")\n",
        "    print(f\"🔹 Start index: {best_window_start}\")\n",
        "    print(f\"🔹 End index: {best_window_end}\")\n",
        "    print(f\"🔹 Total long blinks: {best_segment['is_long_blink'].sum()}\")\n",
        "    print(f\"🔹 Total uncategorized: {best_segment['is_uncategorized'].sum()}\")\n",
        "\n",
        "    # Optional: Save best window\n",
        "    best_segment.to_csv(\"best_10000_segment.csv\", index=False)\n",
        "    print(\"✅ Saved as 'best_10000_segment.csv'\")"
      ],
      "metadata": {
        "id": "cXcp9mhvnSum",
        "colab": {
          "base_uri": "https://localhost:8080/"
        },
        "outputId": "8a532329-e8cd-4468-a582-d97a8a93fc30"
      },
      "execution_count": null,
      "outputs": [
        {
          "output_type": "stream",
          "name": "stdout",
          "text": [
            "✅ Best 10,000-row window found!\n",
            "🔹 Start index: 0\n",
            "🔹 End index: 9999\n",
            "🔹 Total long blinks: 0\n",
            "🔹 Total uncategorized: 0\n",
            "✅ Saved as 'best_10000_segment.csv'\n"
          ]
        }
      ]
    },
    {
      "cell_type": "code",
      "source": [
        "# Strip spaces and lowercase all column names\n",
        "df.columns = df.columns.str.strip().str.lower()\n",
        "\n",
        "# Check new column names\n",
        "print(df.columns)\n"
      ],
      "metadata": {
        "id": "hTBOTEeSSLlL",
        "colab": {
          "base_uri": "https://localhost:8080/"
        },
        "outputId": "73a71b61-e262-4fe5-e016-968e10409140"
      },
      "execution_count": null,
      "outputs": [
        {
          "output_type": "stream",
          "name": "stdout",
          "text": [
            "Index(['recordingtime [ms]', 'time of day [h:m:s:ms]', 'trial',\n",
            "       'export end trial time [ms]', 'participant', 'color',\n",
            "       'tracking ratio [%]', 'category group', 'category binocular',\n",
            "       'index binocular', 'pupil size right x [px]', 'pupil size right y [px]',\n",
            "       'pupil diameter right [mm]', 'pupil size left x [px]',\n",
            "       'pupil size left y [px]', 'pupil diameter left [mm]',\n",
            "       'point of regard binocular x [px]', 'point of regard binocular y [px]',\n",
            "       'point of regard right x [px]', 'point of regard right y [px]',\n",
            "       'point of regard left x [px]', 'point of regard left y [px]',\n",
            "       'gaze vector right x', 'gaze vector right y', 'gaze vector right z',\n",
            "       'gaze vector left x', 'gaze vector left y', 'gaze vector left z',\n",
            "       'scroll direction x'],\n",
            "      dtype='object')\n"
          ]
        }
      ]
    },
    {
      "cell_type": "code",
      "source": [
        "from google.colab import files\n",
        "\n",
        "# Save the best segment to a CSV file\n",
        "best_segment_path = 'best_segment_cleaned.csv'\n",
        "best_segment.to_csv(best_segment_path, index=False)\n",
        "\n",
        "# Download the file\n",
        "files.download(best_segment_path)\n"
      ],
      "metadata": {
        "id": "RsWXpK9CmPgB",
        "colab": {
          "base_uri": "https://localhost:8080/",
          "height": 17
        },
        "outputId": "221d34b7-5443-4012-ecad-174c8a51ad64"
      },
      "execution_count": null,
      "outputs": [
        {
          "output_type": "display_data",
          "data": {
            "text/plain": [
              "<IPython.core.display.Javascript object>"
            ],
            "application/javascript": [
              "\n",
              "    async function download(id, filename, size) {\n",
              "      if (!google.colab.kernel.accessAllowed) {\n",
              "        return;\n",
              "      }\n",
              "      const div = document.createElement('div');\n",
              "      const label = document.createElement('label');\n",
              "      label.textContent = `Downloading \"${filename}\": `;\n",
              "      div.appendChild(label);\n",
              "      const progress = document.createElement('progress');\n",
              "      progress.max = size;\n",
              "      div.appendChild(progress);\n",
              "      document.body.appendChild(div);\n",
              "\n",
              "      const buffers = [];\n",
              "      let downloaded = 0;\n",
              "\n",
              "      const channel = await google.colab.kernel.comms.open(id);\n",
              "      // Send a message to notify the kernel that we're ready.\n",
              "      channel.send({})\n",
              "\n",
              "      for await (const message of channel.messages) {\n",
              "        // Send a message to notify the kernel that we're ready.\n",
              "        channel.send({})\n",
              "        if (message.buffers) {\n",
              "          for (const buffer of message.buffers) {\n",
              "            buffers.push(buffer);\n",
              "            downloaded += buffer.byteLength;\n",
              "            progress.value = downloaded;\n",
              "          }\n",
              "        }\n",
              "      }\n",
              "      const blob = new Blob(buffers, {type: 'application/binary'});\n",
              "      const a = document.createElement('a');\n",
              "      a.href = window.URL.createObjectURL(blob);\n",
              "      a.download = filename;\n",
              "      div.appendChild(a);\n",
              "      a.click();\n",
              "      div.remove();\n",
              "    }\n",
              "  "
            ]
          },
          "metadata": {}
        },
        {
          "output_type": "display_data",
          "data": {
            "text/plain": [
              "<IPython.core.display.Javascript object>"
            ],
            "application/javascript": [
              "download(\"download_805654df-0fbf-4fec-b526-3f49abd3da52\", \"best_segment_cleaned.csv\", 1346997)"
            ]
          },
          "metadata": {}
        }
      ]
    }
  ]
}