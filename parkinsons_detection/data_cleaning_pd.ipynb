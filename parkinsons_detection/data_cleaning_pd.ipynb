{
  "nbformat": 4,
  "nbformat_minor": 0,
  "metadata": {
    "colab": {
      "provenance": []
    },
    "kernelspec": {
      "name": "python3",
      "display_name": "Python 3"
    },
    "language_info": {
      "name": "python"
    }
  },
  "cells": [
    {
      "cell_type": "code",
      "execution_count": null,
      "metadata": {
        "colab": {
          "base_uri": "https://localhost:8080/",
          "height": 377
        },
        "id": "KE1GP0FI-18B",
        "outputId": "9eba5a6a-d4ec-41c6-a6f4-2b9df75c62e2"
      },
      "outputs": [
        {
          "output_type": "display_data",
          "data": {
            "text/plain": [
              "<IPython.core.display.HTML object>"
            ],
            "text/html": [
              "\n",
              "     <input type=\"file\" id=\"files-a76fe219-0e2e-42a1-8941-ca8f2f333e6d\" name=\"files[]\" multiple disabled\n",
              "        style=\"border:none\" />\n",
              "     <output id=\"result-a76fe219-0e2e-42a1-8941-ca8f2f333e6d\">\n",
              "      Upload widget is only available when the cell has been executed in the\n",
              "      current browser session. Please rerun this cell to enable.\n",
              "      </output>\n",
              "      <script>// Copyright 2017 Google LLC\n",
              "//\n",
              "// Licensed under the Apache License, Version 2.0 (the \"License\");\n",
              "// you may not use this file except in compliance with the License.\n",
              "// You may obtain a copy of the License at\n",
              "//\n",
              "//      http://www.apache.org/licenses/LICENSE-2.0\n",
              "//\n",
              "// Unless required by applicable law or agreed to in writing, software\n",
              "// distributed under the License is distributed on an \"AS IS\" BASIS,\n",
              "// WITHOUT WARRANTIES OR CONDITIONS OF ANY KIND, either express or implied.\n",
              "// See the License for the specific language governing permissions and\n",
              "// limitations under the License.\n",
              "\n",
              "/**\n",
              " * @fileoverview Helpers for google.colab Python module.\n",
              " */\n",
              "(function(scope) {\n",
              "function span(text, styleAttributes = {}) {\n",
              "  const element = document.createElement('span');\n",
              "  element.textContent = text;\n",
              "  for (const key of Object.keys(styleAttributes)) {\n",
              "    element.style[key] = styleAttributes[key];\n",
              "  }\n",
              "  return element;\n",
              "}\n",
              "\n",
              "// Max number of bytes which will be uploaded at a time.\n",
              "const MAX_PAYLOAD_SIZE = 100 * 1024;\n",
              "\n",
              "function _uploadFiles(inputId, outputId) {\n",
              "  const steps = uploadFilesStep(inputId, outputId);\n",
              "  const outputElement = document.getElementById(outputId);\n",
              "  // Cache steps on the outputElement to make it available for the next call\n",
              "  // to uploadFilesContinue from Python.\n",
              "  outputElement.steps = steps;\n",
              "\n",
              "  return _uploadFilesContinue(outputId);\n",
              "}\n",
              "\n",
              "// This is roughly an async generator (not supported in the browser yet),\n",
              "// where there are multiple asynchronous steps and the Python side is going\n",
              "// to poll for completion of each step.\n",
              "// This uses a Promise to block the python side on completion of each step,\n",
              "// then passes the result of the previous step as the input to the next step.\n",
              "function _uploadFilesContinue(outputId) {\n",
              "  const outputElement = document.getElementById(outputId);\n",
              "  const steps = outputElement.steps;\n",
              "\n",
              "  const next = steps.next(outputElement.lastPromiseValue);\n",
              "  return Promise.resolve(next.value.promise).then((value) => {\n",
              "    // Cache the last promise value to make it available to the next\n",
              "    // step of the generator.\n",
              "    outputElement.lastPromiseValue = value;\n",
              "    return next.value.response;\n",
              "  });\n",
              "}\n",
              "\n",
              "/**\n",
              " * Generator function which is called between each async step of the upload\n",
              " * process.\n",
              " * @param {string} inputId Element ID of the input file picker element.\n",
              " * @param {string} outputId Element ID of the output display.\n",
              " * @return {!Iterable<!Object>} Iterable of next steps.\n",
              " */\n",
              "function* uploadFilesStep(inputId, outputId) {\n",
              "  const inputElement = document.getElementById(inputId);\n",
              "  inputElement.disabled = false;\n",
              "\n",
              "  const outputElement = document.getElementById(outputId);\n",
              "  outputElement.innerHTML = '';\n",
              "\n",
              "  const pickedPromise = new Promise((resolve) => {\n",
              "    inputElement.addEventListener('change', (e) => {\n",
              "      resolve(e.target.files);\n",
              "    });\n",
              "  });\n",
              "\n",
              "  const cancel = document.createElement('button');\n",
              "  inputElement.parentElement.appendChild(cancel);\n",
              "  cancel.textContent = 'Cancel upload';\n",
              "  const cancelPromise = new Promise((resolve) => {\n",
              "    cancel.onclick = () => {\n",
              "      resolve(null);\n",
              "    };\n",
              "  });\n",
              "\n",
              "  // Wait for the user to pick the files.\n",
              "  const files = yield {\n",
              "    promise: Promise.race([pickedPromise, cancelPromise]),\n",
              "    response: {\n",
              "      action: 'starting',\n",
              "    }\n",
              "  };\n",
              "\n",
              "  cancel.remove();\n",
              "\n",
              "  // Disable the input element since further picks are not allowed.\n",
              "  inputElement.disabled = true;\n",
              "\n",
              "  if (!files) {\n",
              "    return {\n",
              "      response: {\n",
              "        action: 'complete',\n",
              "      }\n",
              "    };\n",
              "  }\n",
              "\n",
              "  for (const file of files) {\n",
              "    const li = document.createElement('li');\n",
              "    li.append(span(file.name, {fontWeight: 'bold'}));\n",
              "    li.append(span(\n",
              "        `(${file.type || 'n/a'}) - ${file.size} bytes, ` +\n",
              "        `last modified: ${\n",
              "            file.lastModifiedDate ? file.lastModifiedDate.toLocaleDateString() :\n",
              "                                    'n/a'} - `));\n",
              "    const percent = span('0% done');\n",
              "    li.appendChild(percent);\n",
              "\n",
              "    outputElement.appendChild(li);\n",
              "\n",
              "    const fileDataPromise = new Promise((resolve) => {\n",
              "      const reader = new FileReader();\n",
              "      reader.onload = (e) => {\n",
              "        resolve(e.target.result);\n",
              "      };\n",
              "      reader.readAsArrayBuffer(file);\n",
              "    });\n",
              "    // Wait for the data to be ready.\n",
              "    let fileData = yield {\n",
              "      promise: fileDataPromise,\n",
              "      response: {\n",
              "        action: 'continue',\n",
              "      }\n",
              "    };\n",
              "\n",
              "    // Use a chunked sending to avoid message size limits. See b/62115660.\n",
              "    let position = 0;\n",
              "    do {\n",
              "      const length = Math.min(fileData.byteLength - position, MAX_PAYLOAD_SIZE);\n",
              "      const chunk = new Uint8Array(fileData, position, length);\n",
              "      position += length;\n",
              "\n",
              "      const base64 = btoa(String.fromCharCode.apply(null, chunk));\n",
              "      yield {\n",
              "        response: {\n",
              "          action: 'append',\n",
              "          file: file.name,\n",
              "          data: base64,\n",
              "        },\n",
              "      };\n",
              "\n",
              "      let percentDone = fileData.byteLength === 0 ?\n",
              "          100 :\n",
              "          Math.round((position / fileData.byteLength) * 100);\n",
              "      percent.textContent = `${percentDone}% done`;\n",
              "\n",
              "    } while (position < fileData.byteLength);\n",
              "  }\n",
              "\n",
              "  // All done.\n",
              "  yield {\n",
              "    response: {\n",
              "      action: 'complete',\n",
              "    }\n",
              "  };\n",
              "}\n",
              "\n",
              "scope.google = scope.google || {};\n",
              "scope.google.colab = scope.google.colab || {};\n",
              "scope.google.colab._files = {\n",
              "  _uploadFiles,\n",
              "  _uploadFilesContinue,\n",
              "};\n",
              "})(self);\n",
              "</script> "
            ]
          },
          "metadata": {}
        },
        {
          "output_type": "error",
          "ename": "KeyboardInterrupt",
          "evalue": "",
          "traceback": [
            "\u001b[0;31m---------------------------------------------------------------------------\u001b[0m",
            "\u001b[0;31mKeyboardInterrupt\u001b[0m                         Traceback (most recent call last)",
            "\u001b[0;32m/tmp/ipython-input-11-2755945398.py\u001b[0m in \u001b[0;36m<cell line: 0>\u001b[0;34m()\u001b[0m\n\u001b[1;32m      1\u001b[0m \u001b[0;32mfrom\u001b[0m \u001b[0mgoogle\u001b[0m\u001b[0;34m.\u001b[0m\u001b[0mcolab\u001b[0m \u001b[0;32mimport\u001b[0m \u001b[0mfiles\u001b[0m  \u001b[0;31m# Only works in Google Colab\u001b[0m\u001b[0;34m\u001b[0m\u001b[0;34m\u001b[0m\u001b[0m\n\u001b[1;32m      2\u001b[0m \u001b[0;34m\u001b[0m\u001b[0m\n\u001b[0;32m----> 3\u001b[0;31m \u001b[0muploaded\u001b[0m \u001b[0;34m=\u001b[0m \u001b[0mfiles\u001b[0m\u001b[0;34m.\u001b[0m\u001b[0mupload\u001b[0m\u001b[0;34m(\u001b[0m\u001b[0;34m)\u001b[0m\u001b[0;34m\u001b[0m\u001b[0;34m\u001b[0m\u001b[0m\n\u001b[0m\u001b[1;32m      4\u001b[0m \u001b[0;34m\u001b[0m\u001b[0m\n\u001b[1;32m      5\u001b[0m \u001b[0;31m# Access the file\u001b[0m\u001b[0;34m\u001b[0m\u001b[0;34m\u001b[0m\u001b[0m\n",
            "\u001b[0;32m/usr/local/lib/python3.11/dist-packages/google/colab/files.py\u001b[0m in \u001b[0;36mupload\u001b[0;34m(target_dir)\u001b[0m\n\u001b[1;32m     70\u001b[0m   \"\"\"\n\u001b[1;32m     71\u001b[0m \u001b[0;34m\u001b[0m\u001b[0m\n\u001b[0;32m---> 72\u001b[0;31m   \u001b[0muploaded_files\u001b[0m \u001b[0;34m=\u001b[0m \u001b[0m_upload_files\u001b[0m\u001b[0;34m(\u001b[0m\u001b[0mmultiple\u001b[0m\u001b[0;34m=\u001b[0m\u001b[0;32mTrue\u001b[0m\u001b[0;34m)\u001b[0m\u001b[0;34m\u001b[0m\u001b[0;34m\u001b[0m\u001b[0m\n\u001b[0m\u001b[1;32m     73\u001b[0m   \u001b[0;31m# Mapping from original filename to filename as saved locally.\u001b[0m\u001b[0;34m\u001b[0m\u001b[0;34m\u001b[0m\u001b[0m\n\u001b[1;32m     74\u001b[0m   \u001b[0mlocal_filenames\u001b[0m \u001b[0;34m=\u001b[0m \u001b[0mdict\u001b[0m\u001b[0;34m(\u001b[0m\u001b[0;34m)\u001b[0m\u001b[0;34m\u001b[0m\u001b[0;34m\u001b[0m\u001b[0m\n",
            "\u001b[0;32m/usr/local/lib/python3.11/dist-packages/google/colab/files.py\u001b[0m in \u001b[0;36m_upload_files\u001b[0;34m(multiple)\u001b[0m\n\u001b[1;32m    162\u001b[0m \u001b[0;34m\u001b[0m\u001b[0m\n\u001b[1;32m    163\u001b[0m   \u001b[0;31m# First result is always an indication that the file picker has completed.\u001b[0m\u001b[0;34m\u001b[0m\u001b[0;34m\u001b[0m\u001b[0m\n\u001b[0;32m--> 164\u001b[0;31m   result = _output.eval_js(\n\u001b[0m\u001b[1;32m    165\u001b[0m       'google.colab._files._uploadFiles(\"{input_id}\", \"{output_id}\")'.format(\n\u001b[1;32m    166\u001b[0m           \u001b[0minput_id\u001b[0m\u001b[0;34m=\u001b[0m\u001b[0minput_id\u001b[0m\u001b[0;34m,\u001b[0m \u001b[0moutput_id\u001b[0m\u001b[0;34m=\u001b[0m\u001b[0moutput_id\u001b[0m\u001b[0;34m\u001b[0m\u001b[0;34m\u001b[0m\u001b[0m\n",
            "\u001b[0;32m/usr/local/lib/python3.11/dist-packages/google/colab/output/_js.py\u001b[0m in \u001b[0;36meval_js\u001b[0;34m(script, ignore_result, timeout_sec)\u001b[0m\n\u001b[1;32m     38\u001b[0m   \u001b[0;32mif\u001b[0m \u001b[0mignore_result\u001b[0m\u001b[0;34m:\u001b[0m\u001b[0;34m\u001b[0m\u001b[0;34m\u001b[0m\u001b[0m\n\u001b[1;32m     39\u001b[0m     \u001b[0;32mreturn\u001b[0m\u001b[0;34m\u001b[0m\u001b[0;34m\u001b[0m\u001b[0m\n\u001b[0;32m---> 40\u001b[0;31m   \u001b[0;32mreturn\u001b[0m \u001b[0m_message\u001b[0m\u001b[0;34m.\u001b[0m\u001b[0mread_reply_from_input\u001b[0m\u001b[0;34m(\u001b[0m\u001b[0mrequest_id\u001b[0m\u001b[0;34m,\u001b[0m \u001b[0mtimeout_sec\u001b[0m\u001b[0;34m)\u001b[0m\u001b[0;34m\u001b[0m\u001b[0;34m\u001b[0m\u001b[0m\n\u001b[0m\u001b[1;32m     41\u001b[0m \u001b[0;34m\u001b[0m\u001b[0m\n\u001b[1;32m     42\u001b[0m \u001b[0;34m\u001b[0m\u001b[0m\n",
            "\u001b[0;32m/usr/local/lib/python3.11/dist-packages/google/colab/_message.py\u001b[0m in \u001b[0;36mread_reply_from_input\u001b[0;34m(message_id, timeout_sec)\u001b[0m\n\u001b[1;32m     94\u001b[0m     \u001b[0mreply\u001b[0m \u001b[0;34m=\u001b[0m \u001b[0m_read_next_input_message\u001b[0m\u001b[0;34m(\u001b[0m\u001b[0;34m)\u001b[0m\u001b[0;34m\u001b[0m\u001b[0;34m\u001b[0m\u001b[0m\n\u001b[1;32m     95\u001b[0m     \u001b[0;32mif\u001b[0m \u001b[0mreply\u001b[0m \u001b[0;34m==\u001b[0m \u001b[0m_NOT_READY\u001b[0m \u001b[0;32mor\u001b[0m \u001b[0;32mnot\u001b[0m \u001b[0misinstance\u001b[0m\u001b[0;34m(\u001b[0m\u001b[0mreply\u001b[0m\u001b[0;34m,\u001b[0m \u001b[0mdict\u001b[0m\u001b[0;34m)\u001b[0m\u001b[0;34m:\u001b[0m\u001b[0;34m\u001b[0m\u001b[0;34m\u001b[0m\u001b[0m\n\u001b[0;32m---> 96\u001b[0;31m       \u001b[0mtime\u001b[0m\u001b[0;34m.\u001b[0m\u001b[0msleep\u001b[0m\u001b[0;34m(\u001b[0m\u001b[0;36m0.025\u001b[0m\u001b[0;34m)\u001b[0m\u001b[0;34m\u001b[0m\u001b[0;34m\u001b[0m\u001b[0m\n\u001b[0m\u001b[1;32m     97\u001b[0m       \u001b[0;32mcontinue\u001b[0m\u001b[0;34m\u001b[0m\u001b[0;34m\u001b[0m\u001b[0m\n\u001b[1;32m     98\u001b[0m     if (\n",
            "\u001b[0;31mKeyboardInterrupt\u001b[0m: "
          ]
        }
      ],
      "source": [
        "from google.colab import files  # Only works in Google Colab\n",
        "\n",
        "uploaded = files.upload()\n",
        "\n",
        "# Access the file\n",
        "for filename in uploaded.keys():\n",
        "    print(f\"Uploaded file: {filename}\")"
      ]
    },
    {
      "cell_type": "code",
      "source": [
        "import numpy as np\n",
        "import pandas as pd\n",
        "\n",
        "# Adjust filename as needed\n",
        "filename = \"10.csv\"\n",
        "df = (pd.read_excel(filename) if filename.endswith('.xlsx')\n",
        "      else pd.read_csv(filename))\n",
        "\n",
        "# Normalize column names: lowercase, strip, replace spaces with underscores\n",
        "df.columns = df.columns.str.strip().str.lower().str.replace(\" \", \"_\")\n",
        "\n",
        "# Quick check\n",
        "print(\"Columns:\", df.columns.tolist())\n"
      ],
      "metadata": {
        "colab": {
          "base_uri": "https://localhost:8080/"
        },
        "id": "FfciaiHx-225",
        "outputId": "6a5d82d9-1292-4b18-e7ff-e30b330c6a06"
      },
      "execution_count": null,
      "outputs": [
        {
          "output_type": "stream",
          "name": "stdout",
          "text": [
            "Columns: ['timestamp', 'gaze_x', 'gaze_y', 'eye_aspect_ratio', 'blink', 'saccade_velocity', 'fixation', 'pupil_size', 'left_pupil_x', 'left_pupil_y', 'left_pupil_diameter', 'right_pupil_x', 'right_pupil_y', 'right_pupil_diameter', 'por_binocular_x', 'por_binocular_y', 'point_of_regard_right_x', 'point_of_regard_right_y', 'point_of_regard_left_x', 'point_of_regard_left_y', 'category_binocular', 'index_binocular']\n"
          ]
        }
      ]
    },
    {
      "cell_type": "code",
      "source": [
        "# Apply a 5‑sample median filter (~20 ms) to reduce jitter\n",
        "df['gx_med'] = df['por_binocular_x'].rolling(window=5, center=True, min_periods=1).median()\n",
        "df['gy_med'] = df['por_binocular_y'].rolling(window=5, center=True, min_periods=1).median()\n",
        "\n",
        "# Optional: peek at first rows\n",
        "print(df[['por_binocular_x','gx_med','por_binocular_y','gy_med']].head(10))\n"
      ],
      "metadata": {
        "colab": {
          "base_uri": "https://localhost:8080/"
        },
        "id": "13hOei56-28E",
        "outputId": "a5bc4bf7-0430-4e3d-ea64-e2669d2efc1c"
      },
      "execution_count": null,
      "outputs": [
        {
          "output_type": "stream",
          "name": "stdout",
          "text": [
            "   por_binocular_x  gx_med  por_binocular_y  gy_med\n",
            "0           878.75  878.75           634.25  634.00\n",
            "1           878.50  878.75           633.00  633.50\n",
            "2           878.75  878.75           634.00  633.25\n",
            "3           879.00  878.75           631.50  633.25\n",
            "4           876.50  878.75           633.25  633.25\n",
            "5           878.75  878.75           634.75  632.00\n",
            "6           879.00  878.75           631.50  633.00\n",
            "7           877.50  879.00           632.00  633.00\n",
            "8           880.25  880.00           633.00  632.00\n",
            "9           880.00  880.25           633.25  632.00\n"
          ]
        }
      ]
    },
    {
      "cell_type": "code",
      "source": [
        "# Compute delta positions & times\n",
        "dx = df['gx_med'].diff()\n",
        "dy = df['gy_med'].diff()\n",
        "dt = df['timestamp'].diff()         # timestamp already in seconds\n",
        "\n",
        "# Avoid divide‑by‑zero\n",
        "dt = dt.replace(0, np.nan)\n",
        "\n",
        "# Velocity (px/sec)\n",
        "df['saccade_velocity'] = np.sqrt(dx**2 + dy**2) / dt\n",
        "df['saccade_velocity'].fillna(0, inplace=True)\n",
        "\n",
        "# Quick histogram to guide threshold choice\n",
        "df['saccade_velocity'].hist(bins=50)\n"
      ],
      "metadata": {
        "colab": {
          "base_uri": "https://localhost:8080/",
          "height": 589
        },
        "id": "jCky1IEa-2-p",
        "outputId": "b004f4d7-1975-4333-af9a-2842284cdac0"
      },
      "execution_count": null,
      "outputs": [
        {
          "output_type": "stream",
          "name": "stderr",
          "text": [
            "/tmp/ipython-input-27-1800492385.py:11: FutureWarning: A value is trying to be set on a copy of a DataFrame or Series through chained assignment using an inplace method.\n",
            "The behavior will change in pandas 3.0. This inplace method will never work because the intermediate object on which we are setting values always behaves as a copy.\n",
            "\n",
            "For example, when doing 'df[col].method(value, inplace=True)', try using 'df.method({col: value}, inplace=True)' or df[col] = df[col].method(value) instead, to perform the operation inplace on the original object.\n",
            "\n",
            "\n",
            "  df['saccade_velocity'].fillna(0, inplace=True)\n"
          ]
        },
        {
          "output_type": "execute_result",
          "data": {
            "text/plain": [
              "<Axes: >"
            ]
          },
          "metadata": {},
          "execution_count": 27
        },
        {
          "output_type": "display_data",
          "data": {
            "text/plain": [
              "<Figure size 640x480 with 1 Axes>"
            ],
            "image/png": "[encoded data removed]"
          },
          "metadata": {}
        }
      ]
    },
    {
      "cell_type": "code",
      "source": [
        "# Parameters: you can tune these\n",
        "VEL_THRESH = 500    # px/sec\n",
        "DUR_THRESH = 0.02   # seconds\n",
        "\n",
        "# Initial saccade mask\n",
        "sv_mask = df['saccade_velocity'] > VEL_THRESH\n",
        "\n",
        "# Label contiguous runs\n",
        "df['sv_grp'] = (sv_mask != sv_mask.shift(1)).cumsum()\n",
        "\n",
        "# Compute run durations\n",
        "grp_stats = df.groupby('sv_grp').agg(\n",
        "    is_saccade=('sv_grp','size'),\n",
        "    start_time=('timestamp','first'),\n",
        "    end_time=('timestamp','last')\n",
        ")\n",
        "grp_stats['duration'] = grp_stats['end_time'] - grp_stats['start_time']\n",
        "\n",
        "# Identify short saccade groups\n",
        "short_grps = grp_stats[(grp_stats['is_saccade']>0) &\n",
        "                       (grp_stats['duration'] < DUR_THRESH)].index\n",
        "\n",
        "# Zero‑out micro‑saccades\n",
        "df.loc[df['sv_grp'].isin(short_grps), 'saccade_velocity'] = 0\n"
      ],
      "metadata": {
        "id": "eZk9vbKO-3BW"
      },
      "execution_count": null,
      "outputs": []
    },
    {
      "cell_type": "code",
      "source": [
        "# Initialize\n",
        "df['category_binocular'] = 'uncategorized'\n",
        "\n",
        "# Blink: low velocity OR explicit blink flag\n",
        "blink_mask = (df['saccade_velocity'] < 10) | (df['blink'] != 0)\n",
        "df.loc[blink_mask, 'category_binocular'] = 'blink'\n",
        "\n",
        "# Saccade: high velocity & not blink\n",
        "saccade_mask = (df['saccade_velocity'] > VEL_THRESH) & (~blink_mask)\n",
        "df.loc[saccade_mask, 'category_binocular'] = 'saccade'\n",
        "\n",
        "# Visual intake: everything else\n",
        "visual_intake_mask = ~(blink_mask | saccade_mask)\n",
        "df.loc[visual_intake_mask, 'category_binocular'] = 'visual intake'\n",
        "\n",
        "# Preview\n",
        "print(df[['timestamp','saccade_velocity','blink','category_binocular']].head(30))\n"
      ],
      "metadata": {
        "colab": {
          "base_uri": "https://localhost:8080/"
        },
        "id": "DMJMhaF1-3D1",
        "outputId": "dd2f9cbf-db07-4797-ff41-83c8609d5eb0"
      },
      "execution_count": null,
      "outputs": [
        {
          "output_type": "stream",
          "name": "stdout",
          "text": [
            "    timestamp  saccade_velocity  blink category_binocular\n",
            "0       0.000          0.000000      0              blink\n",
            "1       0.004        125.000000      0      visual intake\n",
            "2       0.008         62.500000      0      visual intake\n",
            "3       0.012          0.000000      0              blink\n",
            "4       0.016          0.000000      0              blink\n",
            "5       0.020        312.500000      0      visual intake\n",
            "6       0.024        250.000000      0      visual intake\n",
            "7       0.028         62.500000      0      visual intake\n",
            "8       0.032        353.553391      0      visual intake\n",
            "9       0.036         62.500000      0      visual intake\n",
            "10      0.040        187.500000      0      visual intake\n",
            "11      0.044        455.006868      0      visual intake\n",
            "12      0.048        279.508497      0      visual intake\n",
            "13      0.052        257.694102      0      visual intake\n",
            "14      0.056        125.000000      0      visual intake\n",
            "15      0.060        139.754249      0      visual intake\n",
            "16      0.064        125.000000      0      visual intake\n",
            "17      0.068          0.000000      0              blink\n",
            "18      0.072          0.000000      0              blink\n",
            "19      0.076        250.000000      0      visual intake\n",
            "20      0.080          0.000000      0              blink\n",
            "21      0.084        197.642354      0      visual intake\n",
            "22      0.088        380.172658      0      visual intake\n",
            "23      0.092        187.500000      0      visual intake\n",
            "24      0.096          0.000000      0              blink\n",
            "25      0.100        125.000000      0      visual intake\n",
            "26      0.104        125.000000      0      visual intake\n",
            "27      0.108        139.754249      0      visual intake\n",
            "28      0.112          0.000000      0              blink\n",
            "29      0.116          0.000000      0              blink\n"
          ]
        }
      ]
    },
    {
      "cell_type": "code",
      "source": [
        "import pandas as pd\n",
        "\n",
        "# Example: Assuming your DataFrame is named df\n",
        "\n",
        "# Create 'RecordingTime [ms]' by subtracting the first timestamp\n",
        "df['RecordingTime [ms]'] = df['timestamp'] - df['timestamp'].iloc[0]\n",
        "\n",
        "# Display the updated DataFrame\n",
        "print(df.head())"
      ],
      "metadata": {
        "colab": {
          "base_uri": "https://localhost:8080/"
        },
        "id": "TZkl5dJjMnYA",
        "outputId": "a9b07b61-efe3-4cb0-84c5-ec6aabed6c4c"
      },
      "execution_count": null,
      "outputs": [
        {
          "output_type": "stream",
          "name": "stdout",
          "text": [
            "   timestamp      gaze_x      gaze_y  eye_aspect_ratio  blink  \\\n",
            "0      0.000  877.583333  626.916667          0.306073      0   \n",
            "1      0.004  877.166667  626.083333          0.282213      0   \n",
            "2      0.008  878.583333  625.833333          0.304156      0   \n",
            "3      0.012  878.416667  624.666667          0.295823      0   \n",
            "4      0.016  875.666667  626.750000          0.266089      0   \n",
            "\n",
            "   saccade_velocity  fixation  pupil_size  left_pupil_x  left_pupil_y  ...  \\\n",
            "0               0.0         0  196.041371        1105.0         625.0  ...   \n",
            "1             125.0         0  192.264363        1101.5         623.5  ...   \n",
            "2              62.5         0  195.871324        1102.5         625.5  ...   \n",
            "3               0.0         0  196.432556        1106.0         621.0  ...   \n",
            "4               0.0         0  194.264807        1098.5         626.5  ...   \n",
            "\n",
            "   point_of_regard_right_x  point_of_regard_right_y  point_of_regard_left_x  \\\n",
            "0                    652.5                    643.5                  1105.0   \n",
            "1                    655.5                    642.5                  1101.5   \n",
            "2                    655.0                    642.5                  1102.5   \n",
            "3                    652.0                    642.0                  1106.0   \n",
            "4                    654.5                    640.0                  1098.5   \n",
            "\n",
            "   point_of_regard_left_y  category_binocular  index_binocular  gx_med  \\\n",
            "0                   625.0               blink                0  878.75   \n",
            "1                   623.5       visual intake                1  878.75   \n",
            "2                   625.5       visual intake                2  878.75   \n",
            "3                   621.0               blink                3  878.75   \n",
            "4                   626.5               blink                4  878.75   \n",
            "\n",
            "   gy_med  sv_grp  RecordingTime [ms]  \n",
            "0  634.00       1               0.000  \n",
            "1  633.50       1               0.004  \n",
            "2  633.25       1               0.008  \n",
            "3  633.25       1               0.012  \n",
            "4  633.25       1               0.016  \n",
            "\n",
            "[5 rows x 26 columns]\n"
          ]
        }
      ]
    },
    {
      "cell_type": "code",
      "source": [
        "print(\"Counts:\")\n",
        "print(\"  Blinks:       \", (df['category_binocular']=='blink').sum())\n",
        "print(\"  Saccades:     \",(df['category_binocular']=='saccade').sum())\n",
        "print(\"  Visual intake:\",(df['category_binocular']=='visual intake').sum())\n",
        "\n",
        "# Save processed data (Colab) or local file\n",
        "output = \"processed_eye_data.csv\"\n",
        "df.to_csv(output, index=False)\n",
        "print(f\"Saved to {output}\")\n"
      ],
      "metadata": {
        "colab": {
          "base_uri": "https://localhost:8080/"
        },
        "id": "WUiYNWOq-3Gp",
        "outputId": "b0f23dd4-ce47-4bc6-ab93-cefab51efd9a"
      },
      "execution_count": null,
      "outputs": [
        {
          "output_type": "stream",
          "name": "stdout",
          "text": [
            "Counts:\n",
            "  Blinks:        3786\n",
            "  Saccades:      19\n",
            "  Visual intake: 4214\n",
            "Saved to processed_eye_data.csv\n"
          ]
        }
      ]
    },
    {
      "cell_type": "code",
      "source": [
        "from google.colab import files\n",
        "\n",
        "# Save processed data\n",
        "df.to_csv('processed_eye_data.csv', index=False)\n",
        "\n",
        "# Download\n",
        "files.download('processed_eye_data.csv')\n"
      ],
      "metadata": {
        "colab": {
          "base_uri": "https://localhost:8080/",
          "height": 17
        },
        "id": "d8eVoffO_Aff",
        "outputId": "b7b56b2d-f775-4f97-dcf5-06b9d61b0433"
      },
      "execution_count": null,
      "outputs": [
        {
          "output_type": "display_data",
          "data": {
            "text/plain": [
              "<IPython.core.display.Javascript object>"
            ],
            "application/javascript": [
              "\n",
              "    async function download(id, filename, size) {\n",
              "      if (!google.colab.kernel.accessAllowed) {\n",
              "        return;\n",
              "      }\n",
              "      const div = document.createElement('div');\n",
              "      const label = document.createElement('label');\n",
              "      label.textContent = `Downloading \"${filename}\": `;\n",
              "      div.appendChild(label);\n",
              "      const progress = document.createElement('progress');\n",
              "      progress.max = size;\n",
              "      div.appendChild(progress);\n",
              "      document.body.appendChild(div);\n",
              "\n",
              "      const buffers = [];\n",
              "      let downloaded = 0;\n",
              "\n",
              "      const channel = await google.colab.kernel.comms.open(id);\n",
              "      // Send a message to notify the kernel that we're ready.\n",
              "      channel.send({})\n",
              "\n",
              "      for await (const message of channel.messages) {\n",
              "        // Send a message to notify the kernel that we're ready.\n",
              "        channel.send({})\n",
              "        if (message.buffers) {\n",
              "          for (const buffer of message.buffers) {\n",
              "            buffers.push(buffer);\n",
              "            downloaded += buffer.byteLength;\n",
              "            progress.value = downloaded;\n",
              "          }\n",
              "        }\n",
              "      }\n",
              "      const blob = new Blob(buffers, {type: 'application/binary'});\n",
              "      const a = document.createElement('a');\n",
              "      a.href = window.URL.createObjectURL(blob);\n",
              "      a.download = filename;\n",
              "      div.appendChild(a);\n",
              "      a.click();\n",
              "      div.remove();\n",
              "    }\n",
              "  "
            ]
          },
          "metadata": {}
        },
        {
          "output_type": "display_data",
          "data": {
            "text/plain": [
              "<IPython.core.display.Javascript object>"
            ],
            "application/javascript": [
              "download(\"download_002324e3-6922-4dfe-9521-9869d7fa9155\", \"processed_eye_data.csv\", 1841766)"
            ]
          },
          "metadata": {}
        }
      ]
    },
    {
      "cell_type": "code",
      "source": [],
      "metadata": {
        "id": "V9vzlRVa_AvA"
      },
      "execution_count": null,
      "outputs": []
    }
  ]
}